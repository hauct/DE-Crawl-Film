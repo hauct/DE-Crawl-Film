{
 "cells": [
  {
   "cell_type": "code",
   "execution_count": 1,
   "metadata": {},
   "outputs": [],
   "source": [
    "import pandas as pd\n",
    "from datetime import datetime\n",
    "import time\n",
    "from tqdm import tqdm\n",
    "\n",
    "from selenium import webdriver\n",
    "from selenium.webdriver.common.by import By\n",
    "from selenium.webdriver.support.ui import WebDriverWait\n",
    "from selenium.webdriver.chrome.service import Service\n",
    "from selenium.webdriver.support import expected_conditions as EC\n",
    "from bs4 import BeautifulSoup\n",
    "import sys\n",
    "\n",
    "import logging\n",
    "logging.basicConfig(stream=sys.stdout, level=logging.DEBUG)\n",
    "logger = logging.getLogger()\n",
    "logger.setLevel(logging.INFO)"
   ]
  },
  {
   "cell_type": "code",
   "execution_count": 2,
   "metadata": {},
   "outputs": [
    {
     "name": "stdout",
     "output_type": "stream",
     "text": [
      "INFO:root:connection log: <connection object at 0x000001F064EA5470; dsn: 'user=postgres password=xxx dbname=postgres host=introduction-01-intro-ap-southeast-1-dev-introduction-db.cpfm8ml2cxp2.ap-southeast-1.rds.amazonaws.com', closed: 0>\n"
     ]
    }
   ],
   "source": [
    "import psycopg2\n",
    "\n",
    "def create_connection():\n",
    "    connection = psycopg2.connect(\n",
    "        host=\"introduction-01-intro-ap-southeast-1-dev-introduction-db.cpfm8ml2cxp2.ap-southeast-1.rds.amazonaws.com\",\n",
    "        database=\"postgres\",\n",
    "        user=\"postgres\",\n",
    "        password=\"postgres123\"\n",
    "    )\n",
    "    connection.set_session(autocommit=True)\n",
    "    return connection\n",
    "\n",
    "connection = create_connection()\n",
    "logger.info(f\"connection log: {connection}\")"
   ]
  },
  {
   "cell_type": "code",
   "execution_count": 3,
   "metadata": {},
   "outputs": [],
   "source": [
    "event = {\n",
    "    \"urls\" : [\n",
    "        \"https://phimmoiiii.net/the-loai/phim-chieu-rap\",\n",
    "        \"https://phimmoiiii.net/phim-bo\",\n",
    "        \"https://phimmoiiii.net/phim-le\"\n",
    "    ],\n",
    "    \"table_name\": \"ai4e_movie\",\n",
    "    \"data_field\": [\n",
    "        {\n",
    "            \"field\": \"id\",\n",
    "            \"type\": \"integer\"\n",
    "        },\n",
    "        {\n",
    "            \"field\": \"movie_link\",\n",
    "            \"type\": \"varchar\"\n",
    "        },\n",
    "        {\n",
    "            \"field\": \"poster_image_link\",\n",
    "            \"type\": \"varchar\"\n",
    "        },\n",
    "        {\n",
    "            \"field\": \"movie_status\",\n",
    "            \"type\": \"varchar\"\n",
    "        },\n",
    "        {\n",
    "            \"field\": \"en_name\",\n",
    "            \"type\": \"varchar\"\n",
    "        },\n",
    "        {\n",
    "            \"field\": \"vn_name\",\n",
    "            \"type\": \"varchar\"\n",
    "        },\n",
    "        {\n",
    "            \"field\": \"category\",\n",
    "            \"type\": \"varchar\"\n",
    "        }\n",
    "    ]\n",
    "}"
   ]
  },
  {
   "cell_type": "code",
   "execution_count": 4,
   "metadata": {},
   "outputs": [
    {
     "name": "stdout",
     "output_type": "stream",
     "text": [
      "INFO:root:Start create table ai4e_movie_ynn_hauct\n",
      "INFO:root:Created table successfully. Hauct\n"
     ]
    }
   ],
   "source": [
    "# Step 2: Tạo table trên postgres dựa vào table anme\n",
    "def create_table(connection, table_name, fields):\n",
    "    logger.info(f\"Start create table {table_name}\")\n",
    "    list_field_name_field_type = [f'{field[\"field\"]} {field[\"type\"]}' for field in fields] \n",
    "    result_field_name_field_type = ','.join(list_field_name_field_type)\n",
    "\n",
    "    create_table_str = f\"\"\"\n",
    "        create table if not exists {table_name} (\n",
    "            {result_field_name_field_type}\n",
    "        )\n",
    "    \"\"\"\n",
    "\n",
    "    cursor = connection.cursor()\n",
    "    cursor.execute(create_table_str)\n",
    "    logger.info(f\"Created table successfully. Hauct\")\n",
    "table_name = \"ai4e_movie_ynn_hauct\"\n",
    "fields = event[\"data_field\"]\n",
    "\n",
    "create_table(connection, table_name, fields)"
   ]
  },
  {
   "cell_type": "code",
   "execution_count": 5,
   "metadata": {},
   "outputs": [],
   "source": [
    "def connect_to_web(url):\n",
    "    ## Set up Edge webdriver options.\n",
    "    options = webdriver.EdgeOptions()\n",
    "    options.headless = True # Runs driver without opening a chrome browser.\n",
    "    options.add_experimental_option(\"excludeSwitches\", [\"enable-logging\"])\n",
    "\n",
    "    ## Set the path to your webdriver\n",
    "    service = Service('msedgedriver.exe')\n",
    "\n",
    "    ## Initiate the browser\n",
    "    driver = webdriver.Edge(service=service, options=options)\n",
    "    driver.get(url)\n",
    "    driver.refresh()\n",
    "    return driver"
   ]
  },
  {
   "cell_type": "code",
   "execution_count": 6,
   "metadata": {},
   "outputs": [],
   "source": [
    "driver = connect_to_web(event['urls'][1])"
   ]
  },
  {
   "cell_type": "code",
   "execution_count": 7,
   "metadata": {},
   "outputs": [
    {
     "data": {
      "text/plain": [
       "'https://phimmoiiii.net/phim-bo/page/2'"
      ]
     },
     "execution_count": 7,
     "metadata": {},
     "output_type": "execute_result"
    }
   ],
   "source": [
    "event['urls'][1]+'/page/'+str(2)"
   ]
  },
  {
   "cell_type": "code",
   "execution_count": 8,
   "metadata": {},
   "outputs": [],
   "source": [
    "url = event['urls'][1]"
   ]
  },
  {
   "cell_type": "code",
   "execution_count": 13,
   "metadata": {},
   "outputs": [],
   "source": [
    "def crawl_data_one_page(soup, url):\n",
    "    category = url.split('/')[-1]\n",
    "    if (category == 'phim-chieu-rap')|(category == 'phim-le'):\n",
    "        movies = soup.find_all(\"article\", {\"class\": \"item movies\"})\n",
    "    if category == 'phim-bo':    \n",
    "        movies = soup.find_all(\"article\", {\"class\": \"item tvshows\"})\n",
    "        \n",
    "    movies_dict = []\n",
    "    \n",
    "    for movie in movies:\n",
    "        row = {\n",
    "            \"movie_id\": movie['id'],\n",
    "            \"movie_link\": movie.find('a')['href'],\n",
    "            \"poster_image_link\": movie.find('img')['src'],\n",
    "            \"movie_status\": movie.find('div', {'class':'trangthai'}).text if movie.find('div', {'class':'trangthai'}) else None,\n",
    "            \"vn_name\": movie.find('img')['alt'],\n",
    "            \"en_name\": movie.find('span').text.strip(' '),\n",
    "            \"category\": category\n",
    "        }\n",
    "        movies_dict.append(row)\n",
    "    movies_df = pd.DataFrame(movies_dict)\n",
    "    return movies_df"
   ]
  },
  {
   "cell_type": "code",
   "execution_count": 21,
   "metadata": {},
   "outputs": [],
   "source": [
    "def crawl_data(driver, url):\n",
    "    print('='*30)\n",
    "    print(f'Started crawling in web: {url}')\n",
    "    page_source = driver.page_source\n",
    "    soup = BeautifulSoup(page_source, 'lxml')\n",
    "    df0 = crawl_data_one_page(soup, url)\n",
    "    print('Finished crawling page: 1')\n",
    "    page_num = len(soup.find_all(\"div\", {\"class\": \"pagination\"})[0].find_all('a', {'class': 'inactive'})) + 2\n",
    "    for page_id in range(2, page_num):\n",
    "        driver = connect_to_web(url+'/page/'+str(page_id))\n",
    "        page_source = driver.page_source\n",
    "        soup = BeautifulSoup(page_source, 'lxml')\n",
    "        df1 = crawl_data_one_page(soup, url)\n",
    "        df0 = pd.concat([df0, df1], ignore_index=True)\n",
    "        print(f'Finished crawling page: {page_id}')\n",
    "    return df0"
   ]
  },
  {
   "cell_type": "code",
   "execution_count": null,
   "metadata": {},
   "outputs": [],
   "source": [
    "soup = BeautifulSoup(page_source, 'lxml')\n",
    "print(soup.prettify())"
   ]
  },
  {
   "cell_type": "code",
   "execution_count": null,
   "metadata": {},
   "outputs": [],
   "source": [
    "driver.find_element(By.XPATH, '//*[@id=\"contenedor\"]/div[3]/div[1]/div[3]/a').click()"
   ]
  },
  {
   "cell_type": "code",
   "execution_count": null,
   "metadata": {},
   "outputs": [],
   "source": [
    "pages = soup.find_all(\"div\", {\"class\": \"pagination\"})[0].find_all('a', {'class': 'inactive'})\n",
    "pages"
   ]
  },
  {
   "cell_type": "code",
   "execution_count": null,
   "metadata": {},
   "outputs": [],
   "source": [
    "link = driver.find_element(By.XPATH, '//a[@href=\"https://phimmoiiii.net/phim-bo/page/3\"]')\n",
    "link.click()"
   ]
  },
  {
   "cell_type": "code",
   "execution_count": null,
   "metadata": {},
   "outputs": [],
   "source": [
    "a"
   ]
  },
  {
   "cell_type": "code",
   "execution_count": null,
   "metadata": {},
   "outputs": [],
   "source": [
    "'<span>Hoon Payon 2023 </span>'"
   ]
  },
  {
   "cell_type": "code",
   "execution_count": null,
   "metadata": {},
   "outputs": [],
   "source": [
    "movies = soup.find_all(\"article\", {\"class\": \"item movies\"})\n",
    "movies"
   ]
  },
  {
   "cell_type": "code",
   "execution_count": null,
   "metadata": {},
   "outputs": [],
   "source": [
    "event['urls'][0].split('/')[-1]"
   ]
  },
  {
   "cell_type": "code",
   "execution_count": null,
   "metadata": {},
   "outputs": [],
   "source": [
    "def crawl_data_one_page(soup):\n",
    "    movies = soup.find_all(\"article\", {\"class\": \"item tvshows\"})    \n",
    "    ### Convert to a pandas dataframe\n",
    "    movies_dict = []\n",
    "    print('Creating a dataframe')\n",
    "    \n",
    "    for movie in movies:\n",
    "        row = {\n",
    "            \"movie_id\": movie['id'],\n",
    "            \"movie_link\": movie.find('a')['href'],\n",
    "            \"poster_image_link\": movie.find('img')['src'],\n",
    "            \"movie_status\": movie.find('div', {'class':'trangthai'}).text if movie.find('div', {'class':'trangthai'}) else None,\n",
    "            \"vn_name\": movie.find('img')['alt'],\n",
    "            \"en_name\": movie.find('span').text.strip(' '),\n",
    "            \"category\": event['urls'][0].split('/')[-1]\n",
    "        }\n",
    "        movies_dict.append(row)    \n",
    "    movies_df = pd.DataFrame(movies_dict)\n",
    "    return movies_df"
   ]
  },
  {
   "cell_type": "code",
   "execution_count": null,
   "metadata": {},
   "outputs": [],
   "source": [
    "movies_df = crawl_data_one_page(soup)\n",
    "movies_df.head()"
   ]
  },
  {
   "cell_type": "code",
   "execution_count": null,
   "metadata": {},
   "outputs": [],
   "source": [
    "url = event['urls'][0]"
   ]
  },
  {
   "cell_type": "code",
   "execution_count": null,
   "metadata": {},
   "outputs": [],
   "source": [
    "pages = soup.find_all(\"div\", {\"class\": \"pagination\"})\n",
    "pages"
   ]
  },
  {
   "cell_type": "code",
   "execution_count": null,
   "metadata": {},
   "outputs": [],
   "source": [
    "def click_change_page(soup):\n",
    "    "
   ]
  },
  {
   "cell_type": "code",
   "execution_count": null,
   "metadata": {},
   "outputs": [],
   "source": [
    "# Step 2: Tạo table trên postgres dựa vào table anme\n",
    "def create_table(connection, table_name, fields):\n",
    "    logger.info(f\"Start create table {table_name}\")\n",
    "    list_field_name_field_type = [f'{field[\"field\"]} {field[\"type\"]}' for field in fields] \n",
    "    result_field_name_field_type = ','.join(list_field_name_field_type)\n",
    "\n",
    "    create_table_str = f\"\"\"\n",
    "        create table if not exists {table_name} (\n",
    "            {result_field_name_field_type}\n",
    "        )\n",
    "    \"\"\"\n",
    "\n",
    "    cursor = connection.cursor()\n",
    "    cursor.execute(create_table_str)\n",
    "\n",
    "\n",
    "table_name = \"ai4e_movie_ynn\"\n",
    "fields = event[\"data_field\"]\n",
    "\n",
    "create_table(connection, table_name, fields)"
   ]
  },
  {
   "cell_type": "markdown",
   "metadata": {},
   "source": [
    "Kéo dữ liệu từ trang web sau và inset dữ liệu vào postgresdb\n",
    "- https://phimmoiyyy.net/the-loai/phim-chieu-rap\n",
    "- table name: ai4e_movies_{account}\n",
    "- column name: \n",
    "    + id - integer\n",
    "    + movie_link - varchar\n",
    "    + poster_image_link - varchar\n",
    "    + movie_name - varchar\n",
    "    + movie_status - varchar\n",
    "    + en_name - varchar\n",
    "    + vn_name - varchar\n",
    "    + category - varchar"
   ]
  },
  {
   "cell_type": "code",
   "execution_count": null,
   "metadata": {},
   "outputs": [],
   "source": [
    "def ingest_to_db(df):\n",
    "    # Connect to PostgreSQL\n",
    "    conn = psycopg2.connect(\n",
    "        host=HOST,\n",
    "        database=DB_NAME,\n",
    "        user=USER,\n",
    "        password=PASSWORDS\n",
    "    )\n",
    "\n",
    "    # Create a cursor object to interact with the database\n",
    "    cur = conn.cursor()\n",
    "\n",
    "    # Create table if it doesn't exist\n",
    "    create_table_query = f\"\"\"\n",
    "    CREATE TABLE IF NOT EXISTS {game}.{game}_app_reviews_agg (\n",
    "        review_date DATE,\n",
    "        review_star VARCHAR(255),\n",
    "        emotion VARCHAR(255),\n",
    "        summary_review TEXT,\n",
    "        num_review_star INT2,\n",
    "        num_emotion INT2,\n",
    "        num_summary_review INT2,\n",
    "        PRIMARY KEY (review_date, review_star, emotion, summary_review)\n",
    "    )\n",
    "    \"\"\"\n",
    "    cur.execute(create_table_query)\n",
    "    print('Created table')\n",
    "    conn.commit()\n"
   ]
  }
 ],
 "metadata": {
  "kernelspec": {
   "display_name": "base",
   "language": "python",
   "name": "python3"
  },
  "language_info": {
   "codemirror_mode": {
    "name": "ipython",
    "version": 3
   },
   "file_extension": ".py",
   "mimetype": "text/x-python",
   "name": "python",
   "nbconvert_exporter": "python",
   "pygments_lexer": "ipython3",
   "version": "3.11.3"
  }
 },
 "nbformat": 4,
 "nbformat_minor": 2
}
